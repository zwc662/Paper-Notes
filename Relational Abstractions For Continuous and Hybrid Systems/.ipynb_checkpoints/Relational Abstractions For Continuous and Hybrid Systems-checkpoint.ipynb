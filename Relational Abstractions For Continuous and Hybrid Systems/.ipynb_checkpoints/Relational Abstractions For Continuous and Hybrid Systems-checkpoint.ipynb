{
 "cells": [
  {
   "cell_type": "markdown",
   "metadata": {},
   "source": [
    "<h1><a href=\"https://link.springer.com/chapter/10.1007/978-3-642-22110-1_56\">\n",
    "Relational Abstractions For Continuous and Hybrid Systems</a></h1>\n",
    "by Sriram Sankaranarayanan and Ashish Tiwari\n"
   ]
  },
  {
   "cell_type": "markdown",
   "metadata": {},
   "source": [
    "<h2>Summary</h2>\n",
    "\n",
    "* Abstract relations summarize the continous evolutions of states over time in hybrid systems.\n",
    "\n",
    "* Adapt template-based invariant generation techniques(???)\n",
    "\n",
    "* A purely discrete, infinite-state system will be generated"
   ]
  },
  {
   "cell_type": "markdown",
   "metadata": {},
   "source": [
    "<h2>Preliminary</h2>\n",
    "\n",
    "Hybrid "
   ]
  },
  {
   "cell_type": "markdown",
   "metadata": {},
   "source": [
    "<h2>Experiments</h2>\n"
   ]
  },
  {
   "cell_type": "code",
   "execution_count": null,
   "metadata": {},
   "outputs": [],
   "source": []
  },
  {
   "cell_type": "code",
   "execution_count": null,
   "metadata": {},
   "outputs": [],
   "source": []
  }
 ],
 "metadata": {
  "kernelspec": {
   "display_name": "Python 2",
   "language": "python",
   "name": "python2"
  },
  "language_info": {
   "codemirror_mode": {
    "name": "ipython",
    "version": 2
   },
   "file_extension": ".py",
   "mimetype": "text/x-python",
   "name": "python",
   "nbconvert_exporter": "python",
   "pygments_lexer": "ipython2",
   "version": "2.7.15"
  }
 },
 "nbformat": 4,
 "nbformat_minor": 2
}
