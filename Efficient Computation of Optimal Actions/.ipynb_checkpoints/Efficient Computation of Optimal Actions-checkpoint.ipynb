{
 "cells": [
  {
   "cell_type": "markdown",
   "metadata": {},
   "source": [
    "<h1><a href=\"https://www.ncbi.nlm.nih.gov/pubmed/19574462\">\n",
    "Efficient Computation of Optimal Actions</a></h1>\n",
    "by Emanuel Todorov\n"
   ]
  },
  {
   "cell_type": "markdown",
   "metadata": {},
   "source": [
    "<h2>1. Summary</h2>\n",
    "\n",
    "* A new formulation simplifies the construction of optimal control laws in both discrete and continuous domains.\n",
    "\n",
    "* An algorithm that outperform DP and RL."
   ]
  },
  {
   "cell_type": "markdown",
   "metadata": {},
   "source": [
    "<h2>2. Linear Problem for Optimal Control</h2>\n",
    "\n",
    "<h3>Discrete staetspae</h3>\n",
    "\n",
    "Turn transition probability with discrete actions into continuous functions\n",
    "\n",
    ">`With controller`: Transition probability is $u(x'|x)$\n",
    "\n",
    ">`Without controller`: Passive dynamics $p(x'|x)$ is defined as a random walk in discrete domains and as **diffusion process** in continous domains.\n",
    "\n",
    "`Immediate cost` of performing $u$ in $x$:\n",
    "\n",
    "$$l(x,u)=q(x)+KL(u(|x)||p(|x))=q(x)+E_{x'\\sim u(|x)}[log\\frac{u(x'|x)}{p(x'|x)}]\\qquad s.t. p(x'|x)=0\\ if\\ u(x'|x)=0$$\n",
    "\n",
    "where $q(x)$ is the `state cost` and $KL(u(|x)||p(|x))$ is the `action cost`.\n",
    "\n",
    "`Cost-to-go`: $v(x)=min_{u}[{l(x,u)+E_{x'\\sim p(|x,u)}[v(x')]}]$\n",
    "\n",
    "**Introduce `Desirability` to analytically solve the optimization: $z(x)=exp(-v(x))$**\n",
    "\n",
    "Then $v(x)=-log(z(x))=q(x)+min_u\\{E_{x'\\sim u(|x)}[log\\frac{u(x'|x)}{p(x'|x)z(x')}]\\}$\n",
    "\n",
    "Normalize all $p(x'|x)z(x')$ with $g[z](x)=\\sum_{x'}p(x'|x)z(x')=E_{x'\\sim p(|x)}[z(x')]$, then $$min_u(-log(z(x)))\\implies min_u(-log(z(x))-q(x))=min_u\\{E_{x'\\sim u(|x)}[log\\frac{u(x'|x)}{p(x'|x)z(x')}]\\}=min_u g[z](x)D_{KL}( u(|x)||p(x'|x)z(x'))$$\n",
    "Obviously, when $u^*(x'|x)=\\frac{p(x'|x)z(x')}{g[z](x)}$, $D_{KL}( u(|x)||p(x'|x)z(x'))=0$ is minimized.\n",
    "\n",
    "According to `Bellman equation`\n",
    "$$z(x)=exp(-q(x))g[z](x)$$ \n",
    "or $$z=Mz\\ where\\ M=diag(exp(-q))P, P(x, x')=p(x'|x)$$\n",
    "\n",
    "\n",
    "Assume that $N$ and $T$ are the sets of nonterminal and terminal state, where `terminal` means that there will be no transition from the state. Then for terminal states, desirability value $z_{x_T}$ is decided by the immediate state cost. \n",
    "\n",
    "$$[-log(z(x_T))=q(x_T)]\\Rightarrow [z_T=exp(-q_T)]$$\n",
    "\n",
    "For nonterminal states, $z_N$ is decided by the next possible nonterminal state and terminal state.\n",
    "\n",
    "$$z_N=diag(exp(-q_N))(p_{NN}z_N + p_{NT}z_T)=diag(exp(-q_N))(P_{NN}z_N + P_{NT}exp(-q_T))$$\n",
    "$$(diag(exp(q_N))-P_{NN})z_N=P_{NT}exp(-q_T))$$\n",
    "\n",
    "This equation is under the condition of optimal $u=u^*$ and solving $z$ from $z=Mz$ can be treated as eigenvector problem with eigen value being 1. Solving this equation is much eaiser than policy iteration.\n",
    "\n",
    "<h3>Continuous staetspae</h3>\n",
    "\n",
    "`Stochastic dynamics` $dx=a(x)dt+B(x)(udt+\\sigma dw)$ where $w(t)$ is Brownian motion and $\\sigma$ is noise amplitude.\n",
    "\n",
    ">`Passive dynamics` has mean $x\\rightarrow x+a(x)dt$ and covariance $\\sigma^2B(x)B(x)^T dt$\n",
    "\n",
    ">`Controlled dynamics` has mean $x\\rightarrow x+a(x)dt + B(x)dt$ and covariance $\\sigma^2B(x)B(x)^T dt$\n",
    "\n",
    ">The KL-divergence between passive and controlled dynamics is $\\frac{h}{2\\sigma^2}||u||^2$\n",
    "\n",
    "`Immediate cost` $l(x,u)=q(x)+\\frac{1}{2\\sigma^2}||u||^2$, thus `optimal control` is $u^*(x)=-\\sigma^2B(x)^Tv_x(x)$<font color='red'>???</font> where $v(x)$ is the optimal `cost-to-go value`\n",
    "\n",
    "`Desirability function` $z(x)$ satisfies\n",
    "\n",
    "$$q(x)z(x)=L[z](x)$$\n",
    "<center><font color='red'>???</font></center>\n",
    "\n",
    "$$where\\ L[z](x)=a(x)^T z_x(x)+\\frac{\\sigma^2}{2}trace(B(x)B(x)^T z_{xx}(x))$$\n",
    "<center><font color='red'>???</font></center>\n"
   ]
  },
  {
   "cell_type": "code",
   "execution_count": null,
   "metadata": {},
   "outputs": [],
   "source": []
  },
  {
   "cell_type": "markdown",
   "metadata": {},
   "source": [
    "\n"
   ]
  },
  {
   "cell_type": "code",
   "execution_count": null,
   "metadata": {},
   "outputs": [],
   "source": []
  },
  {
   "cell_type": "code",
   "execution_count": null,
   "metadata": {},
   "outputs": [],
   "source": []
  }
 ],
 "metadata": {
  "kernelspec": {
   "display_name": "Python 2",
   "language": "python",
   "name": "python2"
  },
  "language_info": {
   "codemirror_mode": {
    "name": "ipython",
    "version": 2
   },
   "file_extension": ".py",
   "mimetype": "text/x-python",
   "name": "python",
   "nbconvert_exporter": "python",
   "pygments_lexer": "ipython2",
   "version": "2.7.15"
  }
 },
 "nbformat": 4,
 "nbformat_minor": 2
}
