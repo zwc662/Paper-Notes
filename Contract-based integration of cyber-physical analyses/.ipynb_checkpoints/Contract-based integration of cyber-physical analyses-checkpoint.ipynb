{
 "cells": [
  {
   "cell_type": "markdown",
   "metadata": {},
   "source": [
    "<h1><a href=\"https://arxiv.org/abs/1412.6572\">\n",
    "Contract-based integration of cyber-physical analyses</a></h1>\n",
    "Ivan Ruchkin et al.\n"
   ]
  },
  {
   "cell_type": "markdown",
   "metadata": {},
   "source": [
    "<h2>Summary</h2>\n",
    "* Presented an analysis contract specification language with well-defined syntax and semantics.\n",
    "* Proposed a contract verification algorithm that ensures soundness of analysis results"
   ]
  },
  {
   "cell_type": "markdown",
   "metadata": {},
   "source": [
    "<h2>Motivation</h2>\n",
    "\n",
    "Industrial CPS is heavily driven by models and analyses. \n",
    "* Modelling enables CPSs to be developed, upgraded, integrated, verified collaboratively before manufacturing.\n",
    "* Analyses guarantees important quality attributes for model creation and verification at design time.\n",
    "\n",
    "Analyses focusing on different CPS abstractions leads to expensive problems\n",
    "* one analyses modifies a system model in a way that violates the assumptions made by another\n",
    "* specification and verification techniques are designed and chosen by humans and hence limited by human cognition\n",
    "\n",
    "<h3>Example: Reconnaissance Aircraft</h3>\n",
    "\n",
    "Thread scheduling policies, CPU frequencies, battery cell scheduling policies and threads allocation are adjustable parameters.\n",
    "\n",
    "* the aircraft is controlled by a set of threads with different security levels executing on several processors.\n",
    "\n",
    "* each thread executes an infinite sequence of periodic jobs. Each job is a finite computation.\n",
    "\n",
    "* dynamical multicell batterry system with configurable connections between cells allows some cells discharging while others recharging.\n",
    "\n",
    "The requirements:\n",
    "* data security – threads with different security levels should not run on the same CPU; \n",
    "* schedulability – all jobs must meet deadlines required by the control algorithms; \n",
    "* energy efficiency – CPUs must operate on the minimal frequency possible, thus maximizing battery life; \n",
    "* safe concurrency – threads must be free of deadlocks and race conditions; \n",
    "* thermal safety – even if a battery cell overheats, it should not trigger a chain reaction called thermal runaway \n",
    "\n",
    "\n",
    "Assumptions made for analyses on one item may conflict with that of another item.\n",
    "* running bin packing before thread allocation could violate secure co-location constraints set by the latter\n",
    "* using the frequency scaling algorithm that assumes a deadline-monotonic scheduler on a CPU that whereas uses the earliest-deadline-first scheduler\n",
    "\n"
   ]
  },
  {
   "cell_type": "markdown",
   "metadata": {},
   "source": []
  },
  {
   "cell_type": "code",
   "execution_count": null,
   "metadata": {},
   "outputs": [],
   "source": []
  },
  {
   "cell_type": "code",
   "execution_count": null,
   "metadata": {},
   "outputs": [],
   "source": []
  }
 ],
 "metadata": {
  "kernelspec": {
   "display_name": "Python 2",
   "language": "python",
   "name": "python2"
  },
  "language_info": {
   "codemirror_mode": {
    "name": "ipython",
    "version": 2
   },
   "file_extension": ".py",
   "mimetype": "text/x-python",
   "name": "python",
   "nbconvert_exporter": "python",
   "pygments_lexer": "ipython2",
   "version": "2.7.15"
  }
 },
 "nbformat": 4,
 "nbformat_minor": 2
}
