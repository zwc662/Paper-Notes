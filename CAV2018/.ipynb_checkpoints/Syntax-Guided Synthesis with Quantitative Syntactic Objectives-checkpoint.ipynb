{
 "cells": [
  {
   "cell_type": "markdown",
   "metadata": {},
   "source": [
    "<h1><a href=\"http://pages.cs.wisc.edu/~loris/papers/cav18-qsygus.pdf\">\n",
    "Syntax-Guided Synthesis with Quantitative Syntactic Objectives</a></h1>\n",
    "Qinheping Hu, Loris D’Antoni\n"
   ]
  },
  {
   "cell_type": "markdown",
   "metadata": {},
   "source": [
    "<h2>Summary</h2>\n",
    "\n",
    "* A `QSYGUS (Quantitative Syntax-Guided Synthesis???)` framework is proposed to describe synthesis problems with quantitative objectives.\n",
    " \n",
    "* An algorithm based on non-quantitative SYGUS solvers is presented.\n"
   ]
  },
  {
   "cell_type": "markdown",
   "metadata": {},
   "source": [
    "<h2>Introduction</h2>\n",
    "\n",
    "* A `syntax-guided synthesis (SYGUS)` problem is to synthesize a functio n $f$ of a given type that is accepted by a context-free grammar G, and such that $\\forall x.\\phi(f, x)$ holds where $\\phi$ is a given Boolean constraint.\n",
    "* `SYGUS` can only produce programs that meet functional requirement but cannot perform preference or bias among the satisfying programs, e.g. synthesize small programs with fewer constants.\n",
    "\n",
    "* `QSYGUS` describes SYGUS problems with quantitatively syntactic objectives by extending `SYGUS` in\n",
    "    * use weighted grammars to represent the search space s.t. the programs are weighted\n",
    "    * constraints over the weights of the programs\n",
    "\n",
    "* Given a `QSYGUS` problem, the `QSYGUS` algorithm\n",
    "    * generates a `SYGUS` problem and solve it\n",
    "    * iteratively generate `SYGUS` instants and refines the solution until optima"
   ]
  },
  {
   "cell_type": "markdown",
   "metadata": {},
   "source": [
    "<h2>Example: SYGUS</h2>\n",
    "\n",
    "* Problem: synthesize a function that returns the max of two input numbers.\n",
    "\n",
    "* Grammar\n",
    "    * Start ::= Start+Start | if(BExpr) then Start else Start | x | y | 0 | 1\n",
    "    * BExpr ::= Start > Start | $\\neg$BExpr | BExpr$\\wedge$BExpr\n",
    "* Semantic constraint\n",
    "$$\\varphi(f)\\overset{def}{=}\\forall x, y. f(x,y)\\geq x\\wedge f(x,y)\\geq y \\wedge (f(x,y)=x \\vee f(x,y)=y)$$\n",
    "\n",
    "* There can be multiple answers \n",
    "    $$max_1(x,y)=if(x>y)\\ then\\ x\\ else\\ y$$\n",
    "    $$max_2(x,y)=if(x>y)\\ then\\ (x+0)\\ else\\ (y+0)$$\n",
    "    $$max_3(x,y)=if(x>y)\\ then\\ x\\ else\\ (if(y>x)\\ then\\ y\\ else\\ x)$$\n",
    " But obviously $max_1$ is usually perferred."
   ]
  },
  {
   "cell_type": "code",
   "execution_count": null,
   "metadata": {},
   "outputs": [],
   "source": []
  },
  {
   "cell_type": "code",
   "execution_count": null,
   "metadata": {},
   "outputs": [],
   "source": []
  }
 ],
 "metadata": {
  "kernelspec": {
   "display_name": "Python 2",
   "language": "python",
   "name": "python2"
  },
  "language_info": {
   "codemirror_mode": {
    "name": "ipython",
    "version": 2
   },
   "file_extension": ".py",
   "mimetype": "text/x-python",
   "name": "python",
   "nbconvert_exporter": "python",
   "pygments_lexer": "ipython2",
   "version": "2.7.15"
  }
 },
 "nbformat": 4,
 "nbformat_minor": 2
}
