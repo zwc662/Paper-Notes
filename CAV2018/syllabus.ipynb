{
 "cells": [
  {
   "cell_type": "markdown",
   "metadata": {},
   "source": [
    "<h1>CAV2018: Syllabus</h1>"
   ]
  },
  {
   "cell_type": "markdown",
   "metadata": {},
   "source": [
    "<h2>1. Summary</h2>\n",
    "* A diversity of following RL safety problems are discussed. \n",
    "* A ``performance function`` is used to measure the compliance of AI with the intended safe behavior.\n",
    "* AI safety problems are categorized into ``robustness`` and ``specification`` problems."
   ]
  },
  {
   "cell_type": "markdown",
   "metadata": {},
   "source": [
    "<h2>2. Safety Problems</h2>\n",
    "Safety problems discussed in this pape can be separated into two categories.\n",
    "**Specification problems** arise from the discrepancies between reward function known to the agent and performance function unknown to the agent.\n",
    "<ol>\n",
    "<li>***Safety interruptibility:*** \n",
    "    human interrupting an agent and overriding its actions should be accepted but not anticipated at any time.\n",
    "</li>\n",
    "    \n",
    "<li>***Avoiding side effects:***\n",
    "    how to minimize the effects unrelated to the main objectives\n",
    "</li>\n",
    "    \n",
    "<li>***Absent supervisor:***\n",
    "    agent should behave consistently regardless of the presence or absence of a supervisor\n",
    "</li>\n",
    "\n",
    "<li>***Reward gaming:***\n",
    "    agents should not try to hack into the reward function to get more reward\n",
    "</li>\n",
    "</ol>\n",
    "\n",
    "**Robustness problems** arise from experimental factors that can degrade the performance of the agent.\n",
    "\n",
    "<ol>\n",
    "<li>***Self-modification:***\n",
    "    how to design an agent that is allowed to modify its reward function\n",
    "</li>\n",
    "\n",
    "<li>***Distributional shift:***\n",
    "    maintain the robustness of the agent when its test environment is different from the tranining environment\n",
    "</li>\n",
    "\n",
    "<li>***Robustness to adversaries:***\n",
    "    how the agent detect and adapt to friendly and adversarial intentions in the environment.\n",
    "</li>\n",
    "\n",
    "<li>***Safe exploration:***\n",
    "    how to build agents that respect safety constraint from the begining of its learning.\n",
    "</li>\n",
    "</ol>\n",
    "\n",
    "Two RL learning agents, <a href=\"https://arxiv.org/abs/1602.01783\">A3C</a> and <a href=\"https://arxiv.org/abs/1710.02298\">Rainbow</a>, are tested in the environment. They both fail on the **specification problems** since they simply do not have any build-in mechanism to deal with these problems."
   ]
  },
  {
   "cell_type": "markdown",
   "metadata": {},
   "source": [
    "<h2>3. Experiments</h2>\n",
    "\n",
    "The environments are modeled by `Markov Decision Processes (MDP)`.\n",
    "<li>State space is $S$.</li>\n",
    "<li>Action space is $A$.</li>\n",
    "<li>Transition function is $T:S\\times A\\rightarrow \\Delta S$ where $\\Delta S$ is the set of all probability distributions over $S$.</li>\n",
    "<li>Reward function is $R: S\\times A\\rightarrow \\Re$.</li> \n",
    "\n",
    "In traditional RL frameworks, the agent's goal is to maximizes the cumulative reward. However, the reward function maynot capture everything that matters. Therefore, a performance function $R^*: S\\times A\\rightarrow \\Re$ that is unobservable to the agent is additionally formalized to captures both the agent's objective and the safety of its behavior. \n",
    "\n",
    "This paper uses a grid-world environment to simplify the learning problem and limit confounding factors. An agent that fails to behave safely in grid-world environment is unlikely to be adequate to safety-critical tasks in the real world. Each cell in the grid-world can be empty or occupied by a wall or other objects. At each time step, the agent can choose to move in one of 4 directions. Several environments contain a goal cell, $G$, by moving to which the agent can get a $+50$ reward and end the episode. For any other cells, the reward is set to be $-1$ to encourage the agent to finish the episode sooner. The cumulative reward of one episode that lasts for $T$ time steps is $\\sum_{i=0}^{i=T} R(s_{t=i}, a_{t=i})$. Note that there is no discount factor.\n",
    "\n",
    "<h3>3.1 Safe interruptibility </h3>\n",
    "<img src=\"fig1.jpg\" alt=\"Alt text\"/>\n",
    "\n",
    "\n",
    "\n"
   ]
  },
  {
   "cell_type": "code",
   "execution_count": null,
   "metadata": {},
   "outputs": [],
   "source": []
  },
  {
   "cell_type": "code",
   "execution_count": null,
   "metadata": {},
   "outputs": [],
   "source": []
  }
 ],
 "metadata": {
  "kernelspec": {
   "display_name": "Python 2",
   "language": "python",
   "name": "python2"
  },
  "language_info": {
   "codemirror_mode": {
    "name": "ipython",
    "version": 2
   },
   "file_extension": ".py",
   "mimetype": "text/x-python",
   "name": "python",
   "nbconvert_exporter": "python",
   "pygments_lexer": "ipython2",
   "version": "2.7.15"
  }
 },
 "nbformat": 4,
 "nbformat_minor": 2
}
