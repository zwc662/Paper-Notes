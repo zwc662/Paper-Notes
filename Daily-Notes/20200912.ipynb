{
 "cells": [
  {
   "cell_type": "markdown",
   "metadata": {},
   "source": [
    "# Paper study [Resource-Guided Program Synthesis](https://arxiv.org/abs/1904.07415)\n",
    "\n",
    "by Tristan Knoth, Nadia Polikarpova et.al"
   ]
  },
  {
   "cell_type": "markdown",
   "metadata": {},
   "source": [
    "* Resource-guided synthesis technique synthesizes recursive programs that satisfy both functional specification and symbolic resource bound.\n",
    "    * Develop a new type system $Re^2$ that combines polymorphic refinement types with type-based Automatic Amortized Resource Analysis (AARA)\n",
    "    * Develop a resource-guided synthesis algorithm based on $Re^2$"
   ]
  },
  {
   "cell_type": "markdown",
   "metadata": {},
   "source": [
    "* AARA automatically derives symbolic resource bounds, such as the number of calls some function w.r.t sizes of the inputs, on functional programs and is implemented in Resource Aware ML (RaML)\n",
    "* AARA is inspired by the potential method in amortized computation complexity techniques\n",
    "* AARA annotate types with potential functions that map program states to non-negative numbers (costs)\n",
    "* The potential at each program state must be sufficient to cover the cost of the next transition and the potential of the next program state"
   ]
  },
  {
   "cell_type": "markdown",
   "metadata": {},
   "source": [
    "* $Re^2$ a refinement type is annotated with a potential term $\\phi$ such that $R^\\phi$ denotes values of refinement type $R$ with $\\phi$ units of potential\n",
    "* The bounds are checked by reduction to constraints in SMT-decidable theories\n",
    "* Type polymorphic can be realized via the potential annotations, e.g. a call of a function should return a type with enough potential whereas the next call of the same function may need to return a type with less potential, in which case the two functions are no longer identical\n",
    "* Potential annotation also render a bound for recursive calls thus can be used for termination even when there is nontrivial termination metrics"
   ]
  },
  {
   "cell_type": "markdown",
   "metadata": {},
   "source": [
    "* The sorting judgment $\\Gamma\\vdash \\psi\\in\\Delta$ states that a refinement $\\psi$ has a sort $\\Delta$ under a context $\\Gamma$. \n",
    "* Type judegement $\\Gamma\\vdash e:: S$ states that the expression $e$ has type $S$ in the context $\\Gamma$ and can be evaluated to some value only if there is enogh potential before and after the evaluation as indicated in $\\Gamma$\n",
    "* Subtyping judgement is defined in an identical way as the standard except that the subtype should have no less potential than its ancester"
   ]
  },
  {
   "cell_type": "markdown",
   "metadata": {},
   "source": [
    "* When applying synthesis rules, define expression templates with holes.\n",
    "* The main soures of non-dterminism in a synthesis derivation stem from \n",
    "    * How to aproportion the context when it is shared\n",
    "    * When the potential is transfered, how the potential is allocated in the new context\n",
    "    * When a base type refinement is instantiated, what the potential and logic predicate are\n",
    "* To address the nondeteminism, first build a symbolic synthesis derivation that contain unknown refienment terms in a given context and of desired sort. Then collecct all subtyping, sharing and transfer premises from derivation into a system of type constraints\n",
    "* To solve the typing constraints, first transform them into validity constraint, then reduce them into `Horn constraints` and `resource constraints` respectively are implications pointing to predicates on the type refienemnts and potential constraints.\n",
    "* First solve Horn constraints til the least-fixpoint is returned for each unknown, then plugs them into the resource constraints\n",
    "* When solving resource constraints, replace unknown terms with a linear templates with coefficients being linear combination of unknown parameters and variables all coming from the context."
   ]
  },
  {
   "cell_type": "markdown",
   "metadata": {},
   "source": [
    "> Opinion: PL papers emphasize the design of syntax and evaluation rules. It should be ensured that the design satisfies the rules and theorems of **progress**, **preservation**, **substitution**, **consistency**, **soundness** and **completeness**. Usually, the synthesis algorithms are plain, intuitive, unsubtle and heuristic if the syntax, the type systems are constructed."
   ]
  },
  {
   "cell_type": "code",
   "execution_count": null,
   "metadata": {},
   "outputs": [],
   "source": []
  }
 ],
 "metadata": {
  "celltoolbar": "Tags",
  "kernelspec": {
   "display_name": "Python 3",
   "language": "python",
   "name": "python3"
  },
  "language_info": {
   "codemirror_mode": {
    "name": "ipython",
    "version": 3
   },
   "file_extension": ".py",
   "mimetype": "text/x-python",
   "name": "python",
   "nbconvert_exporter": "python",
   "pygments_lexer": "ipython3",
   "version": "3.6.4"
  }
 },
 "nbformat": 4,
 "nbformat_minor": 2
}
