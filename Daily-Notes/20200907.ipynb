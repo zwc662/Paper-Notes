{
 "cells": [
  {
   "cell_type": "markdown",
   "metadata": {},
   "source": [
    "# Paper study [Abstract Refinement Types](https://link.springer.com/chapter/10.1007/978-3-642-37036-6_13)\n",
    "\n",
    "by Niki Vazou"
   ]
  },
  {
   "cell_type": "markdown",
   "metadata": {},
   "source": [
    "* Abstract refinement types decoate types with logic predicates, e.g. positive integers $\\{v:Int|v>0\\}$ denotes the basic type $Int$ refined with a logical predicate over the value variable $v$.\n",
    "    * Enable quantification over the refinements of data and function types \n",
    "    * Preserve SMT-based decidability \n",
    "    * Allow multiple means of reasoning about programs\n",
    "        * Parametric refinements for reasoning with type classes\n",
    "        * Index-dependent refinements for reasoning about key-value maps\n",
    "        * Recursive refinements for reasoning about recursive data types\n",
    "        * Inductive refinements for reasoning about higher-order traversal routines\n",
    "* Refinement type checking reduces to subtyping queries of the form $\\Gamma\\vdash\\{\\tau:v|p\\}\\preceq\\{\\tau:v|q\\}$ where $p$ and $q$ are refinement predicates. Written in logical validity query $[[T]]\\wedge p\\Rightarrow q$       "
   ]
  },
  {
   "cell_type": "markdown",
   "metadata": {},
   "source": [
    "* `Parametric invariants via Type Polymorphism` "
   ]
  }
 ],
 "metadata": {
  "celltoolbar": "Tags",
  "kernelspec": {
   "display_name": "Python 3",
   "language": "python",
   "name": "python3"
  },
  "language_info": {
   "codemirror_mode": {
    "name": "ipython",
    "version": 3
   },
   "file_extension": ".py",
   "mimetype": "text/x-python",
   "name": "python",
   "nbconvert_exporter": "python",
   "pygments_lexer": "ipython3",
   "version": "3.6.4"
  }
 },
 "nbformat": 4,
 "nbformat_minor": 2
}
