{
 "cells": [
  {
   "cell_type": "markdown",
   "metadata": {},
   "source": [
    "# Paper study [Synthesizing Geometry Constructions](https://citeseerx.ist.psu.edu/viewdoc/download?doi=10.1.1.297.7315&rep=rep1&type=pdf)"
   ]
  },
  {
   "cell_type": "markdown",
   "metadata": {},
   "source": [
    "* The connection between program synthesis and automating constructions is that PL allow formally describing the constructions\n",
    "  * The goal of geometric construction is to construct a set of objects $O$ and desired properties $\\phi_2$\n",
    "  * Objects are obtained from an initial set of objects $I$ with certain properties $\\phi_1$\n",
    "  * The construction is conducted using a series of steps $S$\n",
    "  * In program synthesis, $I$ and $O$ are program variables, $S$ is the program constituted by domain specific instruction set\n",
    "  * Formula $\\phi_1$ and $\\phi_2$ play the role of precondition and postcondition respectively\n",
    "  * Checking the correctness of a given geometric construction is like checking the validity of the Hoare triple $<\\phi_1, S, \\phi_2>$\n",
    "* The pre and post conditions are translated into nonlinear optimization problem which is solved to find concrete I\\O pairs.\n",
    "* Given a library of functions that should be used to synthesize the program, need to find a program $S$ that works correctly on the I\\O pairs. \n",
    "* The program is searched by enumeration. To reduce the search space, an extended library that additionally implements functions\n",
    "* A metric is used to make the search goal-directed.\n",
    "* Need a geometry PL that manifpulate objects such as points, lines and circles.\n",
    "    * Point in Cartesian coordinate is a primitive object\n",
    "    * Line is represented by a pair of two distincet points \n",
    "    * Angle is a number in range represented using threee points\n",
    "    * Length s a number constructed from two point objects\n",
    "    * Circle is represented as a pair of a point and a length\n",
    "* In this way, variables are typed in one the of five\n",
    "* There are predefined library Lib\n",
    "* Program can create temporary variables\n",
    "* There is only one expression, namely a function call\n",
    "* Specification language is used to write pre and post conditions\n",
    "* Given as a conjunction of atomic facts, either equality or inequality\n",
    "* Arithmetic expression is built using the standard arithmetic operations on numeral objects\n",
    "* The synthesis approach completely avoids all csymbolic reasoning and significantly prunes the search space of all programs\n",
    "    * Discover the program by finding a program that works for a concrete I\\O pair to avoid doing any symbolic reasonining on nonlinear constraints\n",
    "    * Use a library of high-level functions each of which can be implemented using many basic functions in the given library\n",
    "    * In contrast to goal-blind enumeration, a measurefor the progress toward the goal is developed to make the search goal-directed\n",
    "* To circumvent the issue of unbounded I\\O space, the traditional solution in theorem proving is to reason about one arbitrary symbolic input. But this method is unlikely to scale for synthesis because the proving procedure tends to be applied not once, but several times\n",
    "* `Forward search`: find `short programs using extended library` by composing higher-level components that encode the knowledge\n",
    "* `Backward analysis`: use goodeness measure to determine if an intermediate object could be useful in finally consructing the output objects. The challenge is to how to determince the influence without continuing with the forward search. The answer is to backward analyze starting from the output objects\n",
    "    * One output object can be generated from infinitely many intermediate cases. But if fixing certain feature of the intermediate objects, then a partial backward analysis can make backward analysis feasible\n",
    "    * In the implementation, the algorithm directly test if an intermediate object is backward reachable from the goal using multiple partial backward steps. The tests are coded using a goodness function which takes as argument the set of objects that have been already constructed, the objects to be constructed, the objects whose goodness to be evaluated, and the library of available functions. It returns a Boolean indicating if the object to be evaluated is useful ventually construction the output object. "
   ]
  },
  {
   "cell_type": "code",
   "execution_count": null,
   "metadata": {},
   "outputs": [],
   "source": []
  }
 ],
 "metadata": {
  "celltoolbar": "Tags",
  "kernelspec": {
   "display_name": "Python 3",
   "language": "python",
   "name": "python3"
  },
  "language_info": {
   "codemirror_mode": {
    "name": "ipython",
    "version": 3
   },
   "file_extension": ".py",
   "mimetype": "text/x-python",
   "name": "python",
   "nbconvert_exporter": "python",
   "pygments_lexer": "ipython3",
   "version": "3.6.4"
  }
 },
 "nbformat": 4,
 "nbformat_minor": 2
}
