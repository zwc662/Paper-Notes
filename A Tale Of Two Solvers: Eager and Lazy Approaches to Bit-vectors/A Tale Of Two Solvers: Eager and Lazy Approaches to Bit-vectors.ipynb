{
 "cells": [
  {
   "cell_type": "markdown",
   "metadata": {},
   "source": [
    "<h1><a href=\"https://link.springer.com/chapter/10.1007/978-3-319-08867-9_45\">\n",
    "A Tale Of Two Solvers: Eager and Lazy Approaches to Bit-vectors</a></h1>\n",
    "by Liana Hadarean et al.\n"
   ]
  },
  {
   "cell_type": "markdown",
   "metadata": {},
   "source": [
    "<h2>Summary</h2>\n",
    "\n",
    "* **Eager reduction to propositional logic** is the standard method for deciding bit-vector constraints.\n",
    "    * Powerful rewrite techniques are demanded at first.\n",
    "    * Does not scale on problems where top-level rewrites cannot reduce problem size sufficiently.\n",
    "* **Lazy solver** checks satisfiability on many small subsets of the problem, enabling a wide range of optimization techniques that are not available to eager approach.\n",
    "\n",
    "* Two approaches can be complementary and parallel in terms of the types of the problems."
   ]
  },
  {
   "cell_type": "markdown",
   "metadata": {},
   "source": [
    "<h2>Preliminary</h2>\n",
    "\n",
    "* $\\Sigma$ is a signature, a set of sort symbols together with a set of function symbols and a set of predicate symbols, each equipped with their respective arity and sorts.\n",
    "\n",
    "* A `constraint` is a conjunction of literals. A `constraint satisfiability` problem for a theory $T$ with signature $\\Sigma_T$ consists of deciding whether a $\\Sigma_T$-constraint is T-satisfiable, or in other word, `satisfiable in a model of T`.\n",
    "\n",
    "* A `bit-vector` is a finite vector over the set $\\{0,1\\}$ of binary digits. The theory of bit-vectors with signature $\\Sigma_{bv}$ consists of infinitely many sort symbols $[n]$, which denote the sets of bit-vectors of width $n>0$, and the function and predicate symbols together with their type."
   ]
  },
  {
   "cell_type": "markdown",
   "metadata": {},
   "source": [
    "<h2>DPLL Framework</h2>\n",
    "\n"
   ]
  },
  {
   "cell_type": "code",
   "execution_count": null,
   "metadata": {},
   "outputs": [],
   "source": []
  }
 ],
 "metadata": {
  "kernelspec": {
   "display_name": "Python 2",
   "language": "python",
   "name": "python2"
  },
  "language_info": {
   "codemirror_mode": {
    "name": "ipython",
    "version": 2
   },
   "file_extension": ".py",
   "mimetype": "text/x-python",
   "name": "python",
   "nbconvert_exporter": "python",
   "pygments_lexer": "ipython2",
   "version": "2.7.15"
  }
 },
 "nbformat": 4,
 "nbformat_minor": 2
}
