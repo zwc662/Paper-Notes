{
 "cells": [
  {
   "cell_type": "markdown",
   "metadata": {},
   "source": [
    "<h1><a href=\"https://arxiv.org/abs/1412.6572\">\n",
    "Reachable Set Over-approximation for Nonlinear Systems Using Piecewise Barrier Tubes</a></h1>\n",
    "Hui Kong et al.\n"
   ]
  },
  {
   "cell_type": "markdown",
   "metadata": {},
   "source": [
    "<h2>Summary</h2>\n",
    "* Over-approximate the flowpipe of the dynamics in a nonlinear continuous shystem and find the reachable set"
   ]
  },
  {
   "cell_type": "markdown",
   "metadata": {},
   "source": [
    "<h2>Introduction</h2>\n",
    "\n",
    "**Common approaches** for reachability problem of hybrid systems with ODEs\n",
    "* Invariant generation\n",
    "    * Find an invariant set $I$ such that initial set $I_0\\subset I$ and unsafe set $U\\subset I$.\n",
    "    * Hard to define the constraints which can be solved efficiently.\n",
    "\n",
    "* Abstraction and hybridization\n",
    "    * Use linear model to abstract the nonlinear system.\n",
    "    * Has discretization problem\n",
    "\n",
    "* SMT over reals\n",
    "    * Encode reachability problem as first-order logic formulas\n",
    "    * Does not provide a complete and comprehensive description of the reachability set\n",
    "    \n",
    "* Bounded time flowpipe computation\n",
    "    * Interval method or Tayler model\n",
    "    * Easily has wrapping effect of intervals.\n",
    "\n",
    "**`Barrier functions`** are defined in the way that by adding them to the constraints, all trajectories must move in the increasing direction of the level sets of barrier functions.\n",
    "\n",
    "**`Barreir tubes`** are formed by groups of barrier functions to piecewisely enclose and over-approximate the flowpipe.\n",
    "\n",
    "**`Lie Derivative`**\n",
    "   * Given a polynomial $p$ over $x=[x_1,\\ldots, x_n]^T$ and a continuous system $\\dot{x}=f(x)$ where $\\dot{x}=\\frac{d x}{d t}$\n",
    "   * The Lie derivative of $p$ along $f$ of order $k$ is the k-th derivative of p w.r.t. time\n",
    "$$\\mathcal{L}^k_f p\\triangleq\n",
    "\\left\\{\n",
    "\\begin{array}{ll}\n",
    "      p, & k=0 \\\\\n",
    "      \\sum^n_{i=1}\\frac{\\partial \\mathcal{L}^{k-1}_f p}{\\partial x_i}\\cdot f_i, & k\\geq 1 \\\\\n",
    "\\end{array} \n",
    "\\right. \n",
    "$$\n",
    "\n",
    "**`Semialgebraic system`** is a triple $M\\triangleq <X,f,X_0,I>$\n",
    "  * $X\\subset R^n$ is the state space of the system $M$.\n",
    "  * $f\\in \\mathbb{R}[x]^n$ is locally Lipschitz continuous vector function,\n",
    "  * $X_0\\subset X$ is the initial set, which is semialgebraic.\n",
    "  * $I$ is the invariant of the system\n",
    "  \n",
    "**`Trajectory`** originating from $x_0$ spanning over $t\\in[0, T)$ is a continuous and differential function $\\zeta(t)$ such that \n",
    "  * $\\zeta(0)=x_0$\n",
    "  * $\\forall\\tau\\in[0, T), \\frac{d\\zeta(\\tau)}{dt}|_{t=\\tau}=f(\\zeta(\\tau)).$\n",
    "\n",
    "**`Flowpipe`** of the initial set $X_0$ is \n",
    "$$Flow_f(X_0)\\triangleq\\{\\zeta(x_0, t)|x_0\\in X_0, t\\in\\mathbb{R}, \\dot{\\zeta}=f(\\zeta)\\}$$\n",
    "\n",
    "**`Safety`** means that given system $M\\triangleq <X,f,X_0,I>$ and unsafe $X_U\\subset X$, $\\forall x_0\\in X_0$, no trajectory $\\zeta(x_0, t)$ of  satisfies that $\\exists\\tau\\in\\mathbb{R}:x(\\tau)\\in X_U$"
   ]
  },
  {
   "cell_type": "markdown",
   "metadata": {},
   "source": [
    "<h2>Computing Barrier Certificates</h2>\n",
    "\n",
    "**`Barrier certificate`** is a real multivariate polynomial function $B(X)$ satisfying following constraint such that a semialgebraic system $M$ is guaranteed to be safe.\n",
    "  * $\\forall x\\in X_0, B(x)> 0$ \n",
    "  * $\\forall x\\in X_U, B(x)< 0 $\n",
    "  * $\\forall x\\in I, \\mathcal{L}_f B>0$\n",
    "  * The conditions mean that all trajectories in region $I$ always point in the direction of increasing $B(x)$ such that any trajectory originating from $I_0$ would never reach $X_U$.\n",
    "  * <a href=\"https://link.springer.com/chapter/10.1007/978-3-540-24743-2_32\">Previous work</a> formulates the constraint as sum-of-squares programming problems which can be solved in polynomial time. But it is hard to generate polynomial template for $B(x)$."
   ]
  },
  {
   "cell_type": "markdown",
   "metadata": {},
   "source": [
    "<h2>Piecewise Barrier Tubes</h2>\n",
    "\n",
    "* Firstly, construct an enclosure box for each segment of the flowpipe\n",
    "* Then for each flowpipe inside the box, construct a BT to form a tighter over-approximation.\n",
    "\n",
    "<h3>Construct the enclosure box</h3>\n",
    "\n",
    "Approximately bound the twisting of trajectories by $\\theta$ in a box.\n",
    "\n",
    "**`Twisting of a trajectory`** for a trajectory $\\zeta(t)$ on time interval $I=[T_1, T_2]$ in a system $M$ is defined as \n",
    "$$\\xi_I(\\zeta)\\triangleq sup_{t_1, t_2\\in I} arccos(\\frac{<\\dot{\\zeta}(t_1), \\dot{\\zeta}(t_2)>}{||\\zeta(t_1)||||\\zeta(t_2)||})$$\n",
    "\n",
    "The basci idea of the algorithm of constructing such an enclosure box is as follows.\n",
    "<img src='./fig1.png'></img>\n",
    "\n",
    "> * The algorithm uses ?????????<a href=\"http://www.nsc.ru/interval/Library/Thematic/IntvalDEs/Nedialkov.pdf\">`interval arithmetic`</a>???????\n",
    "*  $(\\theta,d)$-simulation means that the simulation stops either when the twisting of the trajectory reaches θ or when the distance to $x_0$ reaches d so that the flowpipe is long and straight. \n",
    "* The the while loop ends when the flowpipe intersects with the box on only one facet. \n",
    "  * In this case a barrier certificate can be solved to bound the trajectory so that the trajectory won't intersect with other facets.\n",
    "  * If the barrier certificate does not exist, or can not be solved, then push the facet to enlarge the box. The loop goes on.\n",
    "  \n",
    "<h3>Compute Barrier Tube</h3>\n",
    "\n",
    "**`Barrier tube`** is set of real-valued function $BT=\\{B_i(x), i=1, \\ldots, m\\}$ in box $E$ such that \n",
    "* $\\forall B_i(x)\\in BT, (\\forall x\\in X_0, B_i(x)>0)\\wedge(\\forall x\\in E, \\mathcal{L}_f B_i>0)$\n",
    "* $\\Omega=\\{x\\in \\mathbb{R}^n|\\wedge B_i(x)>0, B_i \\in BT\\}$, then  $Flow_f(X_0)\\cap E\\subset \\Omega\\cap E$ \n",
    "\n",
    "Multiple barrier certificates can over-approximate the flowpipe better than single one. But barrier tube can be very conservative due to absence of definition of unsafe set. Therefore, the concept of `auxiliary unsafe set` is introduced.\n",
    "\n",
    "**`Auxiliary unsafe set (AUS)`** is a set of unsafe sets $U_i$. For each $U_i$ a barrier certificate $B_i$ can be solved by adding $U_i$ to the barrier certificate condition inequalities. This will improve the quality and accuracy of the over-approximation. The ideal situation is that the box encloses AUS sets, the AUS sets surround the barrier tube which in turn covers the flowpipe. \n",
    "\n",
    "<img src='./fig2.png'></img>\n",
    "> One dimension requires 2 barrier certificates and 2 AUSs. \n",
    "Iteratively adjust the width of AUS through binary search until the difference in width between two AUSs becomes trivial.\n",
    "\n",
    "<h3>Compute Piecewise Barrier Tube (PBT)</h3>\n",
    "\n",
    "The facet of an enclosure box that intersects with the barrier tube can be regarded as the initial set of the next enclosure box. By creating a series of enclosure boxes piecewisely and consecutively, an over-approximationg for the flowpipe can be obtained. \n",
    "\n",
    "<img src='./fig3.png'></img>\n"
   ]
  },
  {
   "cell_type": "code",
   "execution_count": null,
   "metadata": {},
   "outputs": [],
   "source": []
  }
 ],
 "metadata": {
  "kernelspec": {
   "display_name": "Python 2",
   "language": "python",
   "name": "python2"
  },
  "language_info": {
   "codemirror_mode": {
    "name": "ipython",
    "version": 2
   },
   "file_extension": ".py",
   "mimetype": "text/x-python",
   "name": "python",
   "nbconvert_exporter": "python",
   "pygments_lexer": "ipython2",
   "version": "2.7.15"
  }
 },
 "nbformat": 4,
 "nbformat_minor": 2
}
