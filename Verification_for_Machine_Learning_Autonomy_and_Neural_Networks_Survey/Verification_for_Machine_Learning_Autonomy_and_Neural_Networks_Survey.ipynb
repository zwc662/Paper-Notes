{
 "cells": [
  {
   "cell_type": "markdown",
   "metadata": {},
   "source": [
    "<h1><a href=\"https://arxiv.org/abs/1810.01989\">Verification for Machine Learning, Autonomy, and Neural Networks Survey</a></h1>\n",
    "by Weiming Xiang et al.\n"
   ]
  },
  {
   "cell_type": "markdown",
   "metadata": {},
   "source": [
    "Integrating learning enabled components (LECs) into safety-critical CPS.\n",
    "\n",
    "Autonomous Driving\n",
    "=\n",
    "\n",
    "* `Mediate perception` adopts numeraous sub-components for identifying drivin related objects, e.g. traffic lights, lanes, signs, and pedestrians, to create a representation of the car's surroundings and thus correctly control the velocity and direction.\n",
    "* `Behavior reflex` creates mappings from sensory input images to driving actions, e.g. NN model mimics human drivier.\n",
    "\n",
    "* [27] presents a testing framework for test case generation and automatic falsification methods for autonomous vehicles. It evaluates closed loop properties of autonomous systems including machine learning. Focus on identify8ing perturbations that lead to unexpected behaviors. \n",
    "\n",
    "* [80] argues that Machine Learning was initially concerned with intelligent systems with rich behaviors on complex tasks yet now is not inteligence but statistics and classification. \n",
    "\n",
    "Safe Monitoring and Control\n",
    "=\n",
    "\n",
    "* It is unrealistic to verify all parts of autonomous CPS as that in a modern microprocessor consisting of billions of transistors. Because the complexity grows exponentially. Therefore consider safety architecture, runtime monitoring, runtime verification and runtime assurance.\n",
    "\n",
    "* [11] analyzes periodically-scheduled controller subbsystems of CPS using hybrid automata and associated analysis tools. Tools do not perform well on reachability. Thus, the paper examines an abstraction mechanism in which every behavior of the original sampled system is contained in the continuous system. \n",
    "\n",
    "* [10] presents an alternate design for the Simnplex Architecture that leverages matrix inequality optimization and hybrid systems reachability. It is the first to present a viable reachability algorithm based on a system's real-time conception of imprecise computation. It returns an over-approximation of the reachable set that is improved over time.\n",
    "\n",
    "* [135] presents a hybrid synthesis technique called Neural Guided Deductive Search (NGDS) that combines symbolic logic techniques and statis- tical models. The authors utilize deductive search in order to reduce the learning problem of a neural component into a simple supervised learning set up.\n",
    "\n",
    "* [111] presents a safe reinforcement learning regime, called HIRL (human intervention reinforcement learning). Once the human supervisor classifies a sufficient number of actions, the authors train a supervised learner to carry out this supervisory role and eliminate human intervention.\n",
    "\n",
    "Intelligent Control\n",
    "=====\n",
    "\n",
    "* Intelligent control using Neural Networks\n",
    "\n",
    "* [159] improves gradient descent to adjust the PID neural network and converges faster. There is a plant NN. The PID controller has one hidden layer with 3 neurons representing the Kp, Ki, and Kd used in traditional PID controllers.\n",
    "\n",
    "* [29] a mixed locally recurrent neural network is used to create a PID Neural Network (PIDNN) nonlinear adaptive controller for an uncertain mul- tivariable SIMO (single-input/multi-output) system.\n",
    "\n",
    "* [23] focuses on stability of a control system with NN using a Lyapunov approach. A barrier Lyapunov function (BLF) is introduced to every step in a back-stepping procedure to overcome the effect of the full-state constraints.\n",
    "\n",
    "* [140] an adaptive NN control and Nonlinear Model Predictive Control (NMPC) approach is proposed for a nonlinear system with a double-layer architecture. At the device layer, an adaptive NN control scheme is presented to guarantee the stability of the local nonlinear plant. It optimize the performance index under the effects of network-induced delays and packet dropouts.\n",
    "\n",
    "* [158] a neural network controller for nonlinear discrete-time systems is designed, based on the structure of a linear Generalized Minimum Variance (GMV) controller.\n",
    "\n",
    "* [46] multilayer NNs are used to approximate the implicit desired feedback control. A state feedback control and an observer-based NN output control of a SISO (Single-Input/Single-Output) nonaffine nonlinear system with zero dynamics using multilayer NNs, which can also be extended to affine systems. They proved the existence of an implicit feedback control based on the implicit function theorem.\n",
    "\n",
    "* [77] two Diagonal Recurrent Neural Networks (DRNNs) are used for this control system, one as the controller and the other one as an identifier of the plant, whose output is used by the controller.\n",
    "\n",
    "* [110] adaptively approximate the nonlinear dynamics of a system with a direct adaptive tracking control architecture. The algorithm is proven to be globally stable. Using Lyapunov stability theory, a table weight adjustment mechanism is determined."
   ]
  },
  {
   "cell_type": "markdown",
   "metadata": {},
   "source": []
  },
  {
   "cell_type": "markdown",
   "metadata": {},
   "source": []
  }
 ],
 "metadata": {
  "kernelspec": {
   "display_name": "Python 2",
   "language": "python",
   "name": "python2"
  },
  "language_info": {
   "codemirror_mode": {
    "name": "ipython",
    "version": 2
   },
   "file_extension": ".py",
   "mimetype": "text/x-python",
   "name": "python",
   "nbconvert_exporter": "python",
   "pygments_lexer": "ipython2",
   "version": "2.7.15"
  }
 },
 "nbformat": 4,
 "nbformat_minor": 2
}
